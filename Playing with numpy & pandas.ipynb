{
 "cells": [
  {
   "cell_type": "code",
   "execution_count": 76,
   "metadata": {
    "scrolled": true
   },
   "outputs": [
    {
     "name": "stdout",
     "output_type": "stream",
     "text": [
      "   age  cancer\n",
      "0   21   False\n",
      "1   42    True\n",
      "2   53    True\n",
      "   age  cancer\n",
      "1   42    True\n",
      "2   53    True\n",
      "1    True\n",
      "2    True\n",
      "Name: cancer, dtype: bool\n"
     ]
    }
   ],
   "source": [
    "import pandas as pd\n",
    "import numpy as np\n",
    "\n",
    "age= [21, 42, 53]\n",
    "cancer= [False, True, True]\n",
    "\n",
    "data = {'age': pd.Series(age), 'cancer': pd.Series(cancer)}\n",
    "\n",
    "cancerData = pd.DataFrame(data)\n",
    "print (cancerData)\n",
    "\n",
    "#Trying decisions \n",
    "print (cancerData[cancerData['age'] > 22])\n",
    "print (cancerData['cancer'][cancerData['age'] > 22])"
   ]
  },
  {
   "cell_type": "code",
   "execution_count": 77,
   "metadata": {},
   "outputs": [
    {
     "name": "stdout",
     "output_type": "stream",
     "text": [
      "age       38.666667\n",
      "cancer     0.666667\n",
      "dtype: float64\n"
     ]
    }
   ],
   "source": [
    "# numpy with pandas\n",
    "cancerMean = cancerData.apply(np.mean)\n",
    "print (cancerMean)"
   ]
  },
  {
   "cell_type": "code",
   "execution_count": 93,
   "metadata": {},
   "outputs": [
    {
     "name": "stdout",
     "output_type": "stream",
     "text": [
      "4.238095238095238\n"
     ]
    }
   ],
   "source": [
    "countries = ['Russian Fed.', 'Norway', 'Canada', 'United States',\n",
    "             'Netherlands', 'Germany', 'Switzerland', 'Belarus',\n",
    "             'Austria', 'France', 'Poland', 'China', 'Korea', \n",
    "             'Sweden', 'Czech Republic', 'Slovenia', 'Japan',\n",
    "             'Finland', 'Great Britain', 'Ukraine', 'Slovakia',\n",
    "             'Italy', 'Latvia', 'Australia', 'Croatia', 'Kazakhstan']\n",
    "\n",
    "gold = [13, 11, 10, 9, 8, 8, 6, 5, 4, 4, 4, 3, 3, 2, 2, 2, 1, 1, 1, 1, 1, 0, 0, 0, 0, 0]\n",
    "silver = [11, 5, 10, 7, 7, 6, 3, 0, 8, 4, 1, 4, 3, 7, 4, 2, 4, 3, 1, 0, 0, 2, 2, 2, 1, 0]\n",
    "bronze = [9, 10, 5, 12, 9, 5, 2, 1, 5, 7, 1, 2, 2, 6, 2, 4, 3, 1, 2, 1, 0, 6, 2, 1, 0, 1]\n",
    "\n",
    "olympicMedal = {'country_name': pd.Series(countries),\n",
    "                        'gold': pd.Series(gold),\n",
    "                        'silver': pd.Series(silver),\n",
    "                        'bronze': pd.Series(bronze)}\n",
    "olyData = pd.DataFrame(olympicMedal)\n",
    "\n",
    "#get the avg num of bronze for team with atleast one gold\n",
    "\n",
    "olyBronze = olyData['bronze'][olyData['gold']>=1]\n",
    "print (np.mean(olyBronze))"
   ]
  },
  {
   "cell_type": "code",
   "execution_count": 107,
   "metadata": {},
   "outputs": [
    {
     "name": "stdout",
     "output_type": "stream",
     "text": [
      "bronze    3.807692\n",
      "gold      3.807692\n",
      "silver    3.730769\n",
      "dtype: float64\n"
     ]
    }
   ],
   "source": [
    "#Avg number of gold, bronze & silver with teams with atleast one medal\n",
    "olyMedalData = olyData[['bronze', 'gold', 'silver']].apply(np.mean)\n",
    "print(olyMedalData)"
   ]
  },
  {
   "cell_type": "code",
   "execution_count": 128,
   "metadata": {},
   "outputs": [
    {
     "name": "stdout",
     "output_type": "stream",
     "text": [
      "           country  score\n",
      "0     Russian Fed.     83\n",
      "1           Norway     64\n",
      "2           Canada     65\n",
      "3    United States     62\n",
      "4      Netherlands     55\n",
      "5          Germany     49\n",
      "6      Switzerland     32\n",
      "7          Belarus     21\n",
      "8          Austria     37\n",
      "9           France     31\n",
      "10          Poland     19\n",
      "11           China     22\n",
      "12           Korea     20\n",
      "13          Sweden     28\n",
      "14  Czech Republic     18\n",
      "15        Slovenia     16\n",
      "16           Japan     15\n",
      "17         Finland     11\n",
      "18   Great Britain      8\n",
      "19         Ukraine      5\n",
      "20        Slovakia      4\n",
      "21           Italy     10\n",
      "22          Latvia      6\n",
      "23       Australia      5\n",
      "24         Croatia      2\n",
      "25      Kazakhstan      1\n"
     ]
    }
   ],
   "source": [
    "total = np.dot(olyData[['gold', 'silver', 'bronze']], [4, 2, 1])\n",
    "\n",
    "totalScore = {'country': pd.Series(countries), 'score': pd.Series(total)}\n",
    "\n",
    "print(pd.DataFrame(totalScore))"
   ]
  },
  {
   "cell_type": "code",
   "execution_count": null,
   "metadata": {
    "collapsed": true
   },
   "outputs": [],
   "source": []
  }
 ],
 "metadata": {
  "kernelspec": {
   "display_name": "Python 3",
   "language": "python",
   "name": "python3"
  },
  "language_info": {
   "codemirror_mode": {
    "name": "ipython",
    "version": 3
   },
   "file_extension": ".py",
   "mimetype": "text/x-python",
   "name": "python",
   "nbconvert_exporter": "python",
   "pygments_lexer": "ipython3",
   "version": "3.6.1"
  }
 },
 "nbformat": 4,
 "nbformat_minor": 2
}
